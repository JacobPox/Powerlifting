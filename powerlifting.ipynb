{
 "cells": [
  {
   "cell_type": "markdown",
   "metadata": {},
   "source": [
    "In this notebook I hope to explore a dataset on powerlifters. I myself have done a couple powerlifting competitions before and I'm big into lifting in general, so I think it'd be interesting to play around with this data set and maybe see how I'd stack up against the greatest!\n",
    "\n",
    "The data used in this kernel can be accessed at https://www.kaggle.com/open-powerlifting/powerlifting-database"
   ]
  },
  {
   "cell_type": "markdown",
   "metadata": {},
   "source": [
    "# Standard Imports"
   ]
  },
  {
   "cell_type": "code",
   "execution_count": 50,
   "metadata": {},
   "outputs": [],
   "source": [
    "import numpy as np\n",
    "import pandas as pd\n",
    "import matplotlib.pyplot as plt\n",
    "import warnings\n",
    "warnings.filterwarnings('ignore')\n",
    "%matplotlib inline"
   ]
  },
  {
   "cell_type": "markdown",
   "metadata": {},
   "source": [
    "# Loading Data..."
   ]
  },
  {
   "cell_type": "code",
   "execution_count": 51,
   "metadata": {},
   "outputs": [],
   "source": [
    "lifters = pd.read_csv('powerlifters.csv')"
   ]
  },
  {
   "cell_type": "markdown",
   "metadata": {},
   "source": [
    "# Get Insight On Data/Clean Up"
   ]
  },
  {
   "cell_type": "code",
   "execution_count": 52,
   "metadata": {},
   "outputs": [
    {
     "name": "stdout",
     "output_type": "stream",
     "text": [
      "<class 'pandas.core.frame.DataFrame'>\n",
      "RangeIndex: 386414 entries, 0 to 386413\n",
      "Data columns (total 17 columns):\n",
      "MeetID            386414 non-null int64\n",
      "Name              386414 non-null object\n",
      "Sex               386414 non-null object\n",
      "Equipment         386414 non-null object\n",
      "Age               147147 non-null float64\n",
      "Division          370571 non-null object\n",
      "BodyweightKg      384012 non-null float64\n",
      "WeightClassKg     382602 non-null object\n",
      "Squat4Kg          1243 non-null float64\n",
      "BestSquatKg       298071 non-null float64\n",
      "Bench4Kg          1962 non-null float64\n",
      "BestBenchKg       356364 non-null float64\n",
      "Deadlift4Kg       2800 non-null float64\n",
      "BestDeadliftKg    317847 non-null float64\n",
      "TotalKg           363237 non-null float64\n",
      "Place             385322 non-null object\n",
      "Wilks             362194 non-null float64\n",
      "dtypes: float64(10), int64(1), object(6)\n",
      "memory usage: 50.1+ MB\n",
      "None\n"
     ]
    }
   ],
   "source": [
    "print(lifters.info())"
   ]
  },
  {
   "cell_type": "markdown",
   "metadata": {},
   "source": [
    "Wow that's a lot of information! One thing I notice right away is the weight is in Kg. While I get that metric is superior, I'm an American and when I go to the gym I lift with pounds, so the first order of business should be to make some new columns in pounds.\n",
    "\n",
    "Another thing I notice is that there are not many data points of Squat4kg, Bench4kg, and Deadlift4kg. Let's get rid of those too."
   ]
  },
  {
   "cell_type": "code",
   "execution_count": 53,
   "metadata": {},
   "outputs": [],
   "source": [
    "del lifters['Squat4Kg']\n",
    "del lifters['Bench4Kg']\n",
    "del lifters['Deadlift4Kg']\n",
    "\n",
    "\n",
    "lifters['BodyweightLb'] = round((lifters['BodyweightKg'] * 2.20462), 2)\n",
    "lifters['BestSquatLb'] = round((lifters['BestSquatKg'] * 2.20462), 2)\n",
    "lifters['BestBenchLb'] = round((lifters['BestBenchKg'] * 2.20462), 2)\n",
    "lifters['BestDeadliftLb'] = round((lifters['BestDeadliftKg'] * 2.20462), 2)\n",
    "lifters['TotalLb'] = round((lifters['TotalKg'] * 2.20462), 2) "
   ]
  },
  {
   "cell_type": "markdown",
   "metadata": {},
   "source": [
    "The following code is all commented out because I did it when first running the kernel, but since restarting the kernel it no longer needs to be done. I am keeping it here to demonstrate what was needed."
   ]
  },
  {
   "cell_type": "code",
   "execution_count": null,
   "metadata": {},
   "outputs": [],
   "source": [
    "# Some Weight Classes have a + sign in it, meaning it is that weight or more (no maximum)\n",
    "# e.g. 90+ (Weight class for 90kg or more people)\n",
    "# This means the column will need some extra detail to convert to pounds.\n",
    "\n",
    "#First, a new column which will say whether the weight class they're in has a maximum\n",
    "\n",
    "#lifters['HasMaxWeight'] = False if '+' in lifters['WeightClassKg'] else True\n",
    "\n",
    "#Next, remove that pesky + sign\n",
    "\n",
    "#lifters['WeightClassKg'] = lifters['WeightClassKg'].str.replace('+','')\n",
    "\n",
    "#Almost there...now we need to convert the strings left to floats\n",
    "\n",
    "#lifters['WeightClassKg'] = lifters['WeightClassKg'].astype('float')\n",
    "\n",
    "#Finally, convert the Kg to Lbs!\n",
    "\n",
    "#lifters['WeightClassLb'] = round((lifters['WeightClassKg'] * 2.20462), 2)"
   ]
  },
  {
   "cell_type": "markdown",
   "metadata": {},
   "source": [
    "Now let's take a sample of our first 5 competitor entries"
   ]
  },
  {
   "cell_type": "code",
   "execution_count": 54,
   "metadata": {},
   "outputs": [
    {
     "name": "stdout",
     "output_type": "stream",
     "text": [
      "   MeetID              Name Sex   Equipment   Age     Division  BodyweightKg  \\\n",
      "0       0  Angie Belk Terry   F       Wraps  47.0    Mst 45-49         59.60   \n",
      "1       0       Dawn Bogart   F  Single-ply  42.0    Mst 40-44         58.51   \n",
      "2       0       Dawn Bogart   F  Single-ply  42.0  Open Senior         58.51   \n",
      "3       0       Dawn Bogart   F         Raw  42.0  Open Senior         58.51   \n",
      "4       0      Destiny Dula   F         Raw  18.0   Teen 18-19         63.68   \n",
      "\n",
      "  WeightClassKg  BestSquatKg  BestBenchKg  BestDeadliftKg  TotalKg Place  \\\n",
      "0            60        47.63        20.41           70.31   138.35     1   \n",
      "1            60       142.88        95.25          163.29   401.42     1   \n",
      "2            60       142.88        95.25          163.29   401.42     1   \n",
      "3            60          NaN        95.25             NaN    95.25     1   \n",
      "4          67.5          NaN        31.75           90.72   122.47     1   \n",
      "\n",
      "    Wilks  BodyweightLb  BestSquatLb  BestBenchLb  BestDeadliftLb  TotalLb  \n",
      "0  155.05        131.40       105.01        45.00          155.01   305.01  \n",
      "1  456.38        128.99       315.00       209.99          359.99   884.98  \n",
      "2  456.38        128.99       315.00       209.99          359.99   884.98  \n",
      "3  108.29        128.99          NaN       209.99             NaN   209.99  \n",
      "4  130.47        140.39          NaN        70.00          200.00   270.00  \n"
     ]
    }
   ],
   "source": [
    "print(lifters.head(5))"
   ]
  },
  {
   "cell_type": "markdown",
   "metadata": {},
   "source": [
    "Those are some powerful women! Unfortunately though some of these entries will have to go. NaN is not a real weight!"
   ]
  },
  {
   "cell_type": "code",
   "execution_count": 55,
   "metadata": {},
   "outputs": [
    {
     "name": "stdout",
     "output_type": "stream",
     "text": [
      "   MeetID              Name Sex   Equipment   Age     Division  BodyweightKg  \\\n",
      "0       0  Angie Belk Terry   F       Wraps  47.0    Mst 45-49         59.60   \n",
      "1       0       Dawn Bogart   F  Single-ply  42.0    Mst 40-44         58.51   \n",
      "2       0       Dawn Bogart   F  Single-ply  42.0  Open Senior         58.51   \n",
      "5       0   Courtney Norris   F       Wraps  28.0  Open Senior         62.41   \n",
      "6       0     Maureen Clary   F         Raw  60.0    Mst 60-64         67.31   \n",
      "\n",
      "  WeightClassKg  BestSquatKg  BestBenchKg  BestDeadliftKg  TotalKg Place  \\\n",
      "0            60        47.63        20.41           70.31   138.35     1   \n",
      "1            60       142.88        95.25          163.29   401.42     1   \n",
      "2            60       142.88        95.25          163.29   401.42     1   \n",
      "5          67.5       170.10        77.11          145.15   392.36     1   \n",
      "6          67.5       124.74        95.25          163.29   383.28     1   \n",
      "\n",
      "    Wilks  BodyweightLb  BestSquatLb  BestBenchLb  BestDeadliftLb  TotalLb  \n",
      "0  155.05        131.40       105.01        45.00          155.01   305.01  \n",
      "1  456.38        128.99       315.00       209.99          359.99   884.98  \n",
      "2  456.38        128.99       315.00       209.99          359.99   884.98  \n",
      "5  424.40        137.59       375.01       170.00          320.00   865.00  \n",
      "6  391.98        148.39       275.00       209.99          359.99   844.99  \n"
     ]
    }
   ],
   "source": [
    "#Axis 0 are rows, how='any' means if there is a single NaN value, delete the row\n",
    "lifters = lifters.dropna(axis=0, how='any')\n",
    "\n",
    "print(lifters.head(5))"
   ]
  },
  {
   "cell_type": "markdown",
   "metadata": {},
   "source": [
    "Now we're ready for some cool graphs and stuff!"
   ]
  },
  {
   "cell_type": "markdown",
   "metadata": {},
   "source": [
    "# Visualization"
   ]
  },
  {
   "cell_type": "markdown",
   "metadata": {},
   "source": [
    "In powerlifting, you can get your \"total\" by adding the 3 main lifts (bench+squat+deadlift). At the time of writing this, I weigh 185 lbs (83.9 kg) and my powerlifting total is 1,035 lbs (469.4 kg). Let's see how I stack up!"
   ]
  },
  {
   "cell_type": "code",
   "execution_count": 56,
   "metadata": {},
   "outputs": [
    {
     "data": {
      "text/plain": [
       "<matplotlib.axes._subplots.AxesSubplot at 0x1ac1057afd0>"
      ]
     },
     "execution_count": 56,
     "metadata": {},
     "output_type": "execute_result"
    },
    {
     "data": {
      "image/png": "[encoded data removed]",
      "text/plain": [
       "<Figure size 432x288 with 1 Axes>"
      ]
     },
     "metadata": {},
     "output_type": "display_data"
    }
   ],
   "source": [
    "lifters.plot.scatter(x='BodyweightLb', y='TotalLb')"
   ]
  },
  {
   "cell_type": "markdown",
   "metadata": {},
   "source": [
    "Not too bad! It looks like a 1,035 pound total at 185 pounds bodyweight is right in the middle of the range of totals at my weight. Another thing you can see from this scatter plot is that bodyweight and total weight lifted have a linear relationship."
   ]
  },
  {
   "cell_type": "code",
   "execution_count": null,
   "metadata": {},
   "outputs": [],
   "source": []
  }
 ],
 "metadata": {
  "kernelspec": {
   "display_name": "Python 3",
   "language": "python",
   "name": "python3"
  },
  "language_info": {
   "codemirror_mode": {
    "name": "ipython",
    "version": 3
   },
   "file_extension": ".py",
   "mimetype": "text/x-python",
   "name": "python",
   "nbconvert_exporter": "python",
   "pygments_lexer": "ipython3",
   "version": "3.6.5"
  }
 },
 "nbformat": 4,
 "nbformat_minor": 2
}
